{
 "cells": [
  {
   "cell_type": "code",
   "execution_count": null,
   "metadata": {},
   "outputs": [],
   "source": [
    "from vis import viewer\n",
    "\n",
    "# Runs for about 10 mins before printing 'done'\n",
    "# You can always re-run the cell and/or increase num_iterations.\n",
    "num_iterations = 60 * 10\n",
    "viewer.main(num_iterations)"
   ]
  }
 ],
 "metadata": {
  "kernelspec": {
   "display_name": "Python 3.10.6",
   "language": "python",
   "name": "python3"
  },
  "language_info": {
   "codemirror_mode": {
    "name": "ipython",
    "version": 3
   },
   "file_extension": ".py",
   "mimetype": "text/x-python",
   "name": "python",
   "nbconvert_exporter": "python",
   "pygments_lexer": "ipython3",
   "version": "3.10.6"
  },
  "vscode": {
   "interpreter": {
    "hash": "612ab4556636a7986aff5653e5d5ed5cb1e0c640daa830f0dae50b030d37dcd4"
   }
  }
 },
 "nbformat": 4,
 "nbformat_minor": 2
}
