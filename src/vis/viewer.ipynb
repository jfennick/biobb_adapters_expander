{
 "cells": [
  {
   "cell_type": "code",
   "execution_count": null,
   "metadata": {},
   "outputs": [],
   "source": [
    "# See https://stackoverflow.com/questions/70411694/how-do-i-update-ipywidget-values-while-running-code\n",
    "import threading\n",
    "\n",
    "from src.vis import viewer\n",
    "\n",
    "# Since there is no easy way to interrupt another thread (i.e. no Ctrl-C), simply\n",
    "# use a fixed number of iterations. You can always re-run the cell or increase the limit.\n",
    "num_iterations = 60 * 10 # Runs for about 10 mins before printing 'done'\n",
    "thread = threading.Thread(target=viewer.main, args=(num_iterations,))\n",
    "thread.start()"
   ]
  }
 ],
 "metadata": {
  "kernelspec": {
   "display_name": "Python 3.10.6",
   "language": "python",
   "name": "python3"
  },
  "language_info": {
   "codemirror_mode": {
    "name": "ipython",
    "version": 3
   },
   "file_extension": ".py",
   "mimetype": "text/x-python",
   "name": "python",
   "nbconvert_exporter": "python",
   "pygments_lexer": "ipython3",
   "version": "3.10.6"
  },
  "vscode": {
   "interpreter": {
    "hash": "45b9e6d730bba146154c07ec371b1b6c210ead836919839080321e5ae88ec2c1"
   }
  }
 },
 "nbformat": 4,
 "nbformat_minor": 2
}
